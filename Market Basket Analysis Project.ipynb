{
 "cells": [
  {
   "cell_type": "markdown",
   "id": "5f29866e",
   "metadata": {},
   "source": [
    "# MARKET BASKET ANALYSIS"
   ]
  },
  {
   "cell_type": "markdown",
   "id": "30e6117a",
   "metadata": {},
   "source": [
    "##Explore\n",
    "1. Which day & at which hour does.....\n",
    "     * customer purchase our products the most?\n",
    "     * customer AVG REORDERED our products the most?\n",
    "\n",
    "2. How many days does the customers usually come back and buy again from us? (and out of all these orders, how many of them are reorders (returning customers) ?)\n",
    "\n",
    "3. How many products are there in a single order ?\n",
    "4. Which products that....\n",
    "    * customer purchased the most ? \n",
    "    * customer AVG REORDERED the most ?\n",
    "5. Which aisles that....\n",
    "    * customer purchased the most ? \n",
    "    * customer AVG REORDERED the most ?\n",
    "6. Which depts that....\n",
    "    * customer purchased the most ? \n",
    "    * customer AVG REORDERED the most ?"
   ]
  },
  {
   "cell_type": "code",
   "execution_count": 21,
   "id": "bf07813c",
   "metadata": {},
   "outputs": [],
   "source": [
    "import numpy as np \n",
    "import pandas as pd \n",
    "import matplotlib.pyplot as plt\n",
    "import seaborn as sns\n",
    "color = sns.color_palette()\n",
    "%matplotlib inline\n",
    "pd.options.mode.chained_assignment = None  # default='warn'\n",
    "\n",
    "# garbage collector to free up memory\n",
    "import gc\n",
    "gc.enable()\n",
    "\n",
    "# remove warnings\n",
    "import warnings\n",
    "warnings.filterwarnings('ignore')\n",
    "\n"
   ]
  },
  {
   "cell_type": "code",
   "execution_count": 22,
   "id": "e88d5602",
   "metadata": {},
   "outputs": [],
   "source": [
    "order_prod_prior =pd.read_csv('D:\\Documents\\order_products__prior.csv')\n",
    "aisles =pd.read_csv(r'D:\\Documents\\aisles.csv')\n",
    "products =pd.read_csv(r'D:\\Documents\\products.csv')\n",
    "orders =pd.read_csv(r'D:\\Documents\\orders.csv')\n",
    "depts =pd.read_csv(r'D:\\Documents\\departments.csv')\n",
    "order_prod_train =pd.read_csv(r'D:\\Documents\\order_products__train.csv')\n"
   ]
  },
  {
   "cell_type": "code",
   "execution_count": 23,
   "id": "28d9b418",
   "metadata": {},
   "outputs": [
    {
     "name": "stdout",
     "output_type": "stream",
     "text": [
      " aisles : (134, 2) \n",
      " depts : (21, 2) \n",
      " order_prod_prior : (1048575, 4) \n",
      " order_prod_train : (1048575, 4)\n",
      " orders : (987959, 10) \n",
      " products : (49688, 4)\n"
     ]
    }
   ],
   "source": [
    "print(f\" aisles : {aisles.shape} \\n depts : {depts.shape} \\n order_prod_prior : {order_prod_prior.shape} \\n order_prod_train : {order_prod_train.shape}\\n orders : {orders.shape} \\n products : {products.shape}\")"
   ]
  },
  {
   "cell_type": "markdown",
   "id": "5be9d225",
   "metadata": {},
   "source": [
    "#   #1"
   ]
  },
  {
   "cell_type": "code",
   "execution_count": 24,
   "id": "06f2a687",
   "metadata": {},
   "outputs": [
    {
     "data": {
      "text/html": [
       "<div>\n",
       "<style scoped>\n",
       "    .dataframe tbody tr th:only-of-type {\n",
       "        vertical-align: middle;\n",
       "    }\n",
       "\n",
       "    .dataframe tbody tr th {\n",
       "        vertical-align: top;\n",
       "    }\n",
       "\n",
       "    .dataframe thead th {\n",
       "        text-align: right;\n",
       "    }\n",
       "</style>\n",
       "<table border=\"1\" class=\"dataframe\">\n",
       "  <thead>\n",
       "    <tr style=\"text-align: right;\">\n",
       "      <th></th>\n",
       "      <th>order_dow</th>\n",
       "      <th>order_hour_of_day</th>\n",
       "      <th>order_number</th>\n",
       "    </tr>\n",
       "  </thead>\n",
       "  <tbody>\n",
       "    <tr>\n",
       "      <th>0</th>\n",
       "      <td>0</td>\n",
       "      <td>0</td>\n",
       "      <td>1114</td>\n",
       "    </tr>\n",
       "    <tr>\n",
       "      <th>1</th>\n",
       "      <td>0</td>\n",
       "      <td>1</td>\n",
       "      <td>662</td>\n",
       "    </tr>\n",
       "    <tr>\n",
       "      <th>2</th>\n",
       "      <td>0</td>\n",
       "      <td>2</td>\n",
       "      <td>418</td>\n",
       "    </tr>\n",
       "  </tbody>\n",
       "</table>\n",
       "</div>"
      ],
      "text/plain": [
       "   order_dow  order_hour_of_day  order_number\n",
       "0          0                  0          1114\n",
       "1          0                  1           662\n",
       "2          0                  2           418"
      ]
     },
     "execution_count": 24,
     "metadata": {},
     "output_type": "execute_result"
    }
   ],
   "source": [
    "# Which day & at which hour does customer purchase our products the most?\n",
    "\n",
    "\n",
    "# group data by order_dow, order_hour_of_day, and count order_number\n",
    "grouped_df = orders.groupby(['order_dow', 'order_hour_of_day'])['order_number'].aggregate('count').reset_index()\n",
    "grouped_df.head(3)\n"
   ]
  },
  {
   "cell_type": "code",
   "execution_count": 25,
   "id": "031ff618",
   "metadata": {},
   "outputs": [
    {
     "data": {
      "text/html": [
       "<div>\n",
       "<style scoped>\n",
       "    .dataframe tbody tr th:only-of-type {\n",
       "        vertical-align: middle;\n",
       "    }\n",
       "\n",
       "    .dataframe tbody tr th {\n",
       "        vertical-align: top;\n",
       "    }\n",
       "\n",
       "    .dataframe thead th {\n",
       "        text-align: right;\n",
       "    }\n",
       "</style>\n",
       "<table border=\"1\" class=\"dataframe\">\n",
       "  <thead>\n",
       "    <tr style=\"text-align: right;\">\n",
       "      <th>order_hour_of_day</th>\n",
       "      <th>0</th>\n",
       "      <th>1</th>\n",
       "      <th>2</th>\n",
       "      <th>3</th>\n",
       "      <th>4</th>\n",
       "      <th>5</th>\n",
       "      <th>6</th>\n",
       "      <th>7</th>\n",
       "      <th>8</th>\n",
       "      <th>9</th>\n",
       "      <th>...</th>\n",
       "      <th>14</th>\n",
       "      <th>15</th>\n",
       "      <th>16</th>\n",
       "      <th>17</th>\n",
       "      <th>18</th>\n",
       "      <th>19</th>\n",
       "      <th>20</th>\n",
       "      <th>21</th>\n",
       "      <th>22</th>\n",
       "      <th>23</th>\n",
       "    </tr>\n",
       "    <tr>\n",
       "      <th>order_dow</th>\n",
       "      <th></th>\n",
       "      <th></th>\n",
       "      <th></th>\n",
       "      <th></th>\n",
       "      <th></th>\n",
       "      <th></th>\n",
       "      <th></th>\n",
       "      <th></th>\n",
       "      <th></th>\n",
       "      <th></th>\n",
       "      <th></th>\n",
       "      <th></th>\n",
       "      <th></th>\n",
       "      <th></th>\n",
       "      <th></th>\n",
       "      <th></th>\n",
       "      <th></th>\n",
       "      <th></th>\n",
       "      <th></th>\n",
       "      <th></th>\n",
       "      <th></th>\n",
       "    </tr>\n",
       "  </thead>\n",
       "  <tbody>\n",
       "    <tr>\n",
       "      <th>0</th>\n",
       "      <td>1114</td>\n",
       "      <td>662</td>\n",
       "      <td>418</td>\n",
       "      <td>298</td>\n",
       "      <td>214</td>\n",
       "      <td>346</td>\n",
       "      <td>920</td>\n",
       "      <td>3459</td>\n",
       "      <td>8049</td>\n",
       "      <td>11697</td>\n",
       "      <td>...</td>\n",
       "      <td>15735</td>\n",
       "      <td>15551</td>\n",
       "      <td>14266</td>\n",
       "      <td>11314</td>\n",
       "      <td>8611</td>\n",
       "      <td>6531</td>\n",
       "      <td>5239</td>\n",
       "      <td>4128</td>\n",
       "      <td>3239</td>\n",
       "      <td>1997</td>\n",
       "    </tr>\n",
       "    <tr>\n",
       "      <th>1</th>\n",
       "      <td>1037</td>\n",
       "      <td>531</td>\n",
       "      <td>328</td>\n",
       "      <td>232</td>\n",
       "      <td>257</td>\n",
       "      <td>448</td>\n",
       "      <td>1568</td>\n",
       "      <td>4740</td>\n",
       "      <td>9863</td>\n",
       "      <td>14887</td>\n",
       "      <td>...</td>\n",
       "      <td>13457</td>\n",
       "      <td>13335</td>\n",
       "      <td>12888</td>\n",
       "      <td>10631</td>\n",
       "      <td>8464</td>\n",
       "      <td>6393</td>\n",
       "      <td>4596</td>\n",
       "      <td>3446</td>\n",
       "      <td>2544</td>\n",
       "      <td>1594</td>\n",
       "    </tr>\n",
       "    <tr>\n",
       "      <th>2</th>\n",
       "      <td>880</td>\n",
       "      <td>444</td>\n",
       "      <td>249</td>\n",
       "      <td>205</td>\n",
       "      <td>225</td>\n",
       "      <td>404</td>\n",
       "      <td>1365</td>\n",
       "      <td>3810</td>\n",
       "      <td>7108</td>\n",
       "      <td>10473</td>\n",
       "      <td>...</td>\n",
       "      <td>10843</td>\n",
       "      <td>11005</td>\n",
       "      <td>10857</td>\n",
       "      <td>9275</td>\n",
       "      <td>7616</td>\n",
       "      <td>5797</td>\n",
       "      <td>4254</td>\n",
       "      <td>3118</td>\n",
       "      <td>2350</td>\n",
       "      <td>1528</td>\n",
       "    </tr>\n",
       "  </tbody>\n",
       "</table>\n",
       "<p>3 rows × 24 columns</p>\n",
       "</div>"
      ],
      "text/plain": [
       "order_hour_of_day    0    1    2    3    4    5     6     7     8      9   \\\n",
       "order_dow                                                                   \n",
       "0                  1114  662  418  298  214  346   920  3459  8049  11697   \n",
       "1                  1037  531  328  232  257  448  1568  4740  9863  14887   \n",
       "2                   880  444  249  205  225  404  1365  3810  7108  10473   \n",
       "\n",
       "order_hour_of_day  ...     14     15     16     17    18    19    20    21  \\\n",
       "order_dow          ...                                                       \n",
       "0                  ...  15735  15551  14266  11314  8611  6531  5239  4128   \n",
       "1                  ...  13457  13335  12888  10631  8464  6393  4596  3446   \n",
       "2                  ...  10843  11005  10857   9275  7616  5797  4254  3118   \n",
       "\n",
       "order_hour_of_day    22    23  \n",
       "order_dow                      \n",
       "0                  3239  1997  \n",
       "1                  2544  1594  \n",
       "2                  2350  1528  \n",
       "\n",
       "[3 rows x 24 columns]"
      ]
     },
     "execution_count": 25,
     "metadata": {},
     "output_type": "execute_result"
    }
   ],
   "source": [
    "# turn it to heatmap-suited format, by pivot it\n",
    "grouped_df = grouped_df.pivot('order_dow', 'order_hour_of_day', 'order_number')\n",
    "grouped_df.head(3)"
   ]
  },
  {
   "cell_type": "code",
   "execution_count": 26,
   "id": "55ca7890",
   "metadata": {},
   "outputs": [
    {
     "data": {
      "image/png": "[encoded data removed]",
      "text/plain": [
       "<Figure size 864x432 with 2 Axes>"
      ]
     },
     "metadata": {
      "needs_background": "light"
     },
     "output_type": "display_data"
    }
   ],
   "source": [
    "plt.figure(figsize=(12,6))\n",
    "sns.heatmap(grouped_df)\n",
    "plt.title(\"Frequency COUNT ORDERS of Day of week vs Hour of day\")\n",
    "plt.show()"
   ]
  },
  {
   "cell_type": "code",
   "execution_count": 27,
   "id": "8eec062e",
   "metadata": {},
   "outputs": [],
   "source": [
    "# Result\n",
    "# Saturday 12.00-16.00 & Sun 9.00-12.00 has most orders "
   ]
  },
  {
   "cell_type": "code",
   "execution_count": 28,
   "id": "7439c7d8",
   "metadata": {},
   "outputs": [
    {
     "data": {
      "text/html": [
       "<div>\n",
       "<style scoped>\n",
       "    .dataframe tbody tr th:only-of-type {\n",
       "        vertical-align: middle;\n",
       "    }\n",
       "\n",
       "    .dataframe tbody tr th {\n",
       "        vertical-align: top;\n",
       "    }\n",
       "\n",
       "    .dataframe thead th {\n",
       "        text-align: right;\n",
       "    }\n",
       "</style>\n",
       "<table border=\"1\" class=\"dataframe\">\n",
       "  <thead>\n",
       "    <tr style=\"text-align: right;\">\n",
       "      <th></th>\n",
       "      <th>order_dow</th>\n",
       "      <th>order_hour_of_day</th>\n",
       "      <th>reordered</th>\n",
       "    </tr>\n",
       "  </thead>\n",
       "  <tbody>\n",
       "    <tr>\n",
       "      <th>0</th>\n",
       "      <td>0.0</td>\n",
       "      <td>0.0</td>\n",
       "      <td>0.416216</td>\n",
       "    </tr>\n",
       "    <tr>\n",
       "      <th>1</th>\n",
       "      <td>0.0</td>\n",
       "      <td>1.0</td>\n",
       "      <td>0.719149</td>\n",
       "    </tr>\n",
       "    <tr>\n",
       "      <th>2</th>\n",
       "      <td>0.0</td>\n",
       "      <td>2.0</td>\n",
       "      <td>0.492063</td>\n",
       "    </tr>\n",
       "  </tbody>\n",
       "</table>\n",
       "</div>"
      ],
      "text/plain": [
       "   order_dow  order_hour_of_day  reordered\n",
       "0        0.0                0.0   0.416216\n",
       "1        0.0                1.0   0.719149\n",
       "2        0.0                2.0   0.492063"
      ]
     },
     "execution_count": 28,
     "metadata": {},
     "output_type": "execute_result"
    }
   ],
   "source": [
    "\n",
    "# same procedure as count orders above, except we change 'count order_number' to 'mean reordered'\n",
    "\n",
    "\n",
    "\n",
    "# merge customer past orders (order_prod_prior) & order in-depth details (orders)\n",
    "orderprodprior_orders = pd.merge(order_prod_prior, orders, on='order_id', how='left')\n",
    "\n",
    "# group data by order_dow, order_hour_of_day, and get average of reordered\n",
    "grouped_df = orderprodprior_orders.groupby(['order_dow', 'order_hour_of_day'])['reordered'].aggregate('mean').reset_index()\n",
    "grouped_df.head(3)\n"
   ]
  },
  {
   "cell_type": "code",
   "execution_count": 29,
   "id": "91206d98",
   "metadata": {},
   "outputs": [
    {
     "data": {
      "image/png": "[encoded data removed]",
      "text/plain": [
       "<Figure size 864x432 with 2 Axes>"
      ]
     },
     "metadata": {
      "needs_background": "light"
     },
     "output_type": "display_data"
    }
   ],
   "source": [
    "# turn it to heatmap-suited format, by pivot it\n",
    "grouped_df = grouped_df.pivot('order_dow', 'order_hour_of_day', 'reordered')\n",
    "grouped_df.head(3)\n",
    "\n",
    "# display result in heatmap \n",
    "plt.figure(figsize=(12,6))\n",
    "sns.heatmap(grouped_df)\n",
    "plt.title(\"Frequency AVG REORDERED of Day of week vs Hour of day\")\n",
    "plt.show()\n"
   ]
  },
  {
   "cell_type": "markdown",
   "id": "a5b73612",
   "metadata": {},
   "source": [
    "\n",
    " in general, for any days, highest between 5am to 9am\n"
   ]
  },
  {
   "cell_type": "markdown",
   "id": "b73d0a7b",
   "metadata": {},
   "source": [
    "## #2"
   ]
  },
  {
   "cell_type": "code",
   "execution_count": 30,
   "id": "d822de5e",
   "metadata": {},
   "outputs": [
    {
     "data": {
      "image/png": "[encoded data removed]",
      "text/plain": [
       "<Figure size 864x576 with 1 Axes>"
      ]
     },
     "metadata": {
      "needs_background": "light"
     },
     "output_type": "display_data"
    }
   ],
   "source": [
    "# How many days does the customers usually come back and buy again from us?\n",
    "#(and out of all these orders, how many of them are reorders (returning customers) ?)\n",
    "\n",
    "# dats_since_prior_order column given, hence just plot\n",
    "plt.figure(figsize=(12,8))\n",
    "sns.countplot(x='days_since_prior_order', data=orders, color=color[9])\n",
    "plt.ylabel('Count', fontsize=12)\n",
    "plt.xlabel('Days since prior order', fontsize=12)\n",
    "plt.xticks(rotation='vertical')\n",
    "plt.title(\"Frequency by days since last order\")\n",
    "plt.show()\n",
    "\n",
    "# Customers usually come back to us once every 7 days or 30 days"
   ]
  },
  {
   "cell_type": "markdown",
   "id": "69e247e0",
   "metadata": {},
   "source": [
    "## #3"
   ]
  },
  {
   "cell_type": "code",
   "execution_count": 31,
   "id": "975e1b82",
   "metadata": {},
   "outputs": [
    {
     "data": {
      "text/html": [
       "<div>\n",
       "<style scoped>\n",
       "    .dataframe tbody tr th:only-of-type {\n",
       "        vertical-align: middle;\n",
       "    }\n",
       "\n",
       "    .dataframe tbody tr th {\n",
       "        vertical-align: top;\n",
       "    }\n",
       "\n",
       "    .dataframe thead th {\n",
       "        text-align: right;\n",
       "    }\n",
       "</style>\n",
       "<table border=\"1\" class=\"dataframe\">\n",
       "  <thead>\n",
       "    <tr style=\"text-align: right;\">\n",
       "      <th></th>\n",
       "      <th>order_id</th>\n",
       "      <th>add_to_cart_order</th>\n",
       "    </tr>\n",
       "  </thead>\n",
       "  <tbody>\n",
       "    <tr>\n",
       "      <th>0</th>\n",
       "      <td>2</td>\n",
       "      <td>9</td>\n",
       "    </tr>\n",
       "    <tr>\n",
       "      <th>1</th>\n",
       "      <td>3</td>\n",
       "      <td>8</td>\n",
       "    </tr>\n",
       "    <tr>\n",
       "      <th>2</th>\n",
       "      <td>4</td>\n",
       "      <td>13</td>\n",
       "    </tr>\n",
       "    <tr>\n",
       "      <th>3</th>\n",
       "      <td>5</td>\n",
       "      <td>26</td>\n",
       "    </tr>\n",
       "    <tr>\n",
       "      <th>4</th>\n",
       "      <td>6</td>\n",
       "      <td>3</td>\n",
       "    </tr>\n",
       "    <tr>\n",
       "      <th>...</th>\n",
       "      <td>...</td>\n",
       "      <td>...</td>\n",
       "    </tr>\n",
       "    <tr>\n",
       "      <th>104037</th>\n",
       "      <td>110716</td>\n",
       "      <td>1</td>\n",
       "    </tr>\n",
       "    <tr>\n",
       "      <th>104038</th>\n",
       "      <td>110717</td>\n",
       "      <td>1</td>\n",
       "    </tr>\n",
       "    <tr>\n",
       "      <th>104039</th>\n",
       "      <td>110718</td>\n",
       "      <td>7</td>\n",
       "    </tr>\n",
       "    <tr>\n",
       "      <th>104040</th>\n",
       "      <td>110719</td>\n",
       "      <td>2</td>\n",
       "    </tr>\n",
       "    <tr>\n",
       "      <th>104041</th>\n",
       "      <td>110720</td>\n",
       "      <td>3</td>\n",
       "    </tr>\n",
       "  </tbody>\n",
       "</table>\n",
       "<p>104042 rows × 2 columns</p>\n",
       "</div>"
      ],
      "text/plain": [
       "        order_id  add_to_cart_order\n",
       "0              2                  9\n",
       "1              3                  8\n",
       "2              4                 13\n",
       "3              5                 26\n",
       "4              6                  3\n",
       "...          ...                ...\n",
       "104037    110716                  1\n",
       "104038    110717                  1\n",
       "104039    110718                  7\n",
       "104040    110719                  2\n",
       "104041    110720                  3\n",
       "\n",
       "[104042 rows x 2 columns]"
      ]
     },
     "execution_count": 31,
     "metadata": {},
     "output_type": "execute_result"
    }
   ],
   "source": [
    "# How many products are there in a single order ?\n",
    "\n",
    "\n",
    "# group data by each orders (order_id), and aggregate 'Max' (add_to_cart_order is cumulative, hence Max)\n",
    "grouped_df = order_prod_prior.groupby(\"order_id\")[\"add_to_cart_order\"].aggregate(\"max\").reset_index()\n",
    "grouped_df"
   ]
  },
  {
   "cell_type": "code",
   "execution_count": 32,
   "id": "00213bdc",
   "metadata": {},
   "outputs": [
    {
     "data": {
      "text/plain": [
       "6      7380\n",
       "5      7347\n",
       "4      7174\n",
       "7      7106\n",
       "3      6634\n",
       "       ... \n",
       "127       1\n",
       "83        1\n",
       "75        1\n",
       "109       1\n",
       "95        1\n",
       "Name: add_to_cart_order, Length: 75, dtype: int64"
      ]
     },
     "execution_count": 32,
     "metadata": {},
     "output_type": "execute_result"
    }
   ],
   "source": [
    "# count how many times does a certain amount of order size occur\n",
    "cnt_srs = grouped_df.add_to_cart_order.value_counts()\n",
    "cnt_srs"
   ]
  },
  {
   "cell_type": "code",
   "execution_count": 33,
   "id": "3a904cc2",
   "metadata": {},
   "outputs": [
    {
     "data": {
      "image/png": "[encoded data removed]",
      "text/plain": [
       "<Figure size 1440x576 with 1 Axes>"
      ]
     },
     "metadata": {
      "needs_background": "light"
     },
     "output_type": "display_data"
    }
   ],
   "source": [
    "# display result\n",
    "plt.figure(figsize=(20,8))\n",
    "sns.barplot(cnt_srs.index, cnt_srs.values, alpha=0.8)\n",
    "plt.ylabel('No of occurences', fontsize=12)\n",
    "plt.xlabel('No of each order size', fontsize=12)\n",
    "plt.xticks(rotation='vertical')\n",
    "plt.title(\"Basket Size on each order\")\n",
    "plt.show()\n",
    "\n",
    "\n",
    "# 10 products per orders. with the most is 5. Note that it dropped exponentially after 10\n",
    "# same result too in training data"
   ]
  },
  {
   "cell_type": "markdown",
   "id": "41adb009",
   "metadata": {},
   "source": [
    "## #4"
   ]
  },
  {
   "cell_type": "code",
   "execution_count": 34,
   "id": "c769fe72",
   "metadata": {},
   "outputs": [
    {
     "data": {
      "text/html": [
       "<div>\n",
       "<style scoped>\n",
       "    .dataframe tbody tr th:only-of-type {\n",
       "        vertical-align: middle;\n",
       "    }\n",
       "\n",
       "    .dataframe tbody tr th {\n",
       "        vertical-align: top;\n",
       "    }\n",
       "\n",
       "    .dataframe thead th {\n",
       "        text-align: right;\n",
       "    }\n",
       "</style>\n",
       "<table border=\"1\" class=\"dataframe\">\n",
       "  <thead>\n",
       "    <tr style=\"text-align: right;\">\n",
       "      <th></th>\n",
       "      <th>product_id</th>\n",
       "      <th>product_name</th>\n",
       "      <th>aisle_id</th>\n",
       "      <th>department_id</th>\n",
       "      <th>is_organic</th>\n",
       "    </tr>\n",
       "  </thead>\n",
       "  <tbody>\n",
       "    <tr>\n",
       "      <th>20</th>\n",
       "      <td>21</td>\n",
       "      <td>Small &amp; Medium Dental Dog Treats</td>\n",
       "      <td>40</td>\n",
       "      <td>8</td>\n",
       "      <td>False</td>\n",
       "    </tr>\n",
       "    <tr>\n",
       "      <th>21</th>\n",
       "      <td>22</td>\n",
       "      <td>Fresh Breath Oral Rinse Mild Mint</td>\n",
       "      <td>20</td>\n",
       "      <td>11</td>\n",
       "      <td>False</td>\n",
       "    </tr>\n",
       "    <tr>\n",
       "      <th>22</th>\n",
       "      <td>23</td>\n",
       "      <td>Organic Turkey Burgers</td>\n",
       "      <td>49</td>\n",
       "      <td>12</td>\n",
       "      <td>True</td>\n",
       "    </tr>\n",
       "    <tr>\n",
       "      <th>23</th>\n",
       "      <td>24</td>\n",
       "      <td>Tri-Vi-Sol® Vitamins A-C-and D Supplement Drop...</td>\n",
       "      <td>47</td>\n",
       "      <td>11</td>\n",
       "      <td>False</td>\n",
       "    </tr>\n",
       "    <tr>\n",
       "      <th>24</th>\n",
       "      <td>25</td>\n",
       "      <td>Salted Caramel Lean Protein &amp; Fiber Bar</td>\n",
       "      <td>3</td>\n",
       "      <td>19</td>\n",
       "      <td>False</td>\n",
       "    </tr>\n",
       "  </tbody>\n",
       "</table>\n",
       "</div>"
      ],
      "text/plain": [
       "    product_id                                       product_name  aisle_id  \\\n",
       "20          21                   Small & Medium Dental Dog Treats        40   \n",
       "21          22                  Fresh Breath Oral Rinse Mild Mint        20   \n",
       "22          23                             Organic Turkey Burgers        49   \n",
       "23          24  Tri-Vi-Sol® Vitamins A-C-and D Supplement Drop...        47   \n",
       "24          25            Salted Caramel Lean Protein & Fiber Bar         3   \n",
       "\n",
       "    department_id  is_organic  \n",
       "20              8       False  \n",
       "21             11       False  \n",
       "22             12        True  \n",
       "23             11       False  \n",
       "24             19       False  "
      ]
     },
     "execution_count": 34,
     "metadata": {},
     "output_type": "execute_result"
    }
   ],
   "source": [
    "organic = products['product_name'].str.contains('Organic')\n",
    "products['is_organic'] = organic\n",
    "products.iloc[20:30].head()"
   ]
  },
  {
   "cell_type": "code",
   "execution_count": 35,
   "id": "b77a2397",
   "metadata": {},
   "outputs": [
    {
     "name": "stdout",
     "output_type": "stream",
     "text": [
      "Shape of Orders table:  (987959, 10)\n"
     ]
    },
    {
     "data": {
      "text/html": [
       "<div>\n",
       "<style scoped>\n",
       "    .dataframe tbody tr th:only-of-type {\n",
       "        vertical-align: middle;\n",
       "    }\n",
       "\n",
       "    .dataframe tbody tr th {\n",
       "        vertical-align: top;\n",
       "    }\n",
       "\n",
       "    .dataframe thead th {\n",
       "        text-align: right;\n",
       "    }\n",
       "</style>\n",
       "<table border=\"1\" class=\"dataframe\">\n",
       "  <thead>\n",
       "    <tr style=\"text-align: right;\">\n",
       "      <th></th>\n",
       "      <th>order_id</th>\n",
       "      <th>user_id</th>\n",
       "      <th>eval_set</th>\n",
       "      <th>order_number</th>\n",
       "      <th>order_dow</th>\n",
       "      <th>order_hour_of_day</th>\n",
       "      <th>days_since_prior_order</th>\n",
       "      <th>Unnamed: 7</th>\n",
       "      <th>Unnamed: 8</th>\n",
       "      <th>Unnamed: 9</th>\n",
       "    </tr>\n",
       "  </thead>\n",
       "  <tbody>\n",
       "    <tr>\n",
       "      <th>0</th>\n",
       "      <td>2539329</td>\n",
       "      <td>1</td>\n",
       "      <td>prior</td>\n",
       "      <td>1</td>\n",
       "      <td>2</td>\n",
       "      <td>8</td>\n",
       "      <td>NaN</td>\n",
       "      <td>NaN</td>\n",
       "      <td>NaN</td>\n",
       "      <td>NaN</td>\n",
       "    </tr>\n",
       "    <tr>\n",
       "      <th>1</th>\n",
       "      <td>2398795</td>\n",
       "      <td>1</td>\n",
       "      <td>prior</td>\n",
       "      <td>2</td>\n",
       "      <td>3</td>\n",
       "      <td>7</td>\n",
       "      <td>15.0</td>\n",
       "      <td>NaN</td>\n",
       "      <td>NaN</td>\n",
       "      <td>NaN</td>\n",
       "    </tr>\n",
       "    <tr>\n",
       "      <th>2</th>\n",
       "      <td>473747</td>\n",
       "      <td>1</td>\n",
       "      <td>prior</td>\n",
       "      <td>3</td>\n",
       "      <td>3</td>\n",
       "      <td>12</td>\n",
       "      <td>21.0</td>\n",
       "      <td>NaN</td>\n",
       "      <td>NaN</td>\n",
       "      <td>NaN</td>\n",
       "    </tr>\n",
       "    <tr>\n",
       "      <th>3</th>\n",
       "      <td>2254736</td>\n",
       "      <td>1</td>\n",
       "      <td>prior</td>\n",
       "      <td>4</td>\n",
       "      <td>4</td>\n",
       "      <td>7</td>\n",
       "      <td>29.0</td>\n",
       "      <td>NaN</td>\n",
       "      <td>NaN</td>\n",
       "      <td>112498.0</td>\n",
       "    </tr>\n",
       "    <tr>\n",
       "      <th>4</th>\n",
       "      <td>431534</td>\n",
       "      <td>1</td>\n",
       "      <td>prior</td>\n",
       "      <td>5</td>\n",
       "      <td>4</td>\n",
       "      <td>15</td>\n",
       "      <td>28.0</td>\n",
       "      <td>NaN</td>\n",
       "      <td>NaN</td>\n",
       "      <td>NaN</td>\n",
       "    </tr>\n",
       "    <tr>\n",
       "      <th>5</th>\n",
       "      <td>3367565</td>\n",
       "      <td>1</td>\n",
       "      <td>prior</td>\n",
       "      <td>6</td>\n",
       "      <td>2</td>\n",
       "      <td>7</td>\n",
       "      <td>19.0</td>\n",
       "      <td>NaN</td>\n",
       "      <td>NaN</td>\n",
       "      <td>143162.0</td>\n",
       "    </tr>\n",
       "    <tr>\n",
       "      <th>6</th>\n",
       "      <td>550135</td>\n",
       "      <td>1</td>\n",
       "      <td>prior</td>\n",
       "      <td>7</td>\n",
       "      <td>1</td>\n",
       "      <td>9</td>\n",
       "      <td>20.0</td>\n",
       "      <td>NaN</td>\n",
       "      <td>NaN</td>\n",
       "      <td>NaN</td>\n",
       "    </tr>\n",
       "    <tr>\n",
       "      <th>7</th>\n",
       "      <td>3108588</td>\n",
       "      <td>1</td>\n",
       "      <td>prior</td>\n",
       "      <td>8</td>\n",
       "      <td>1</td>\n",
       "      <td>14</td>\n",
       "      <td>14.0</td>\n",
       "      <td>NaN</td>\n",
       "      <td>NaN</td>\n",
       "      <td>NaN</td>\n",
       "    </tr>\n",
       "    <tr>\n",
       "      <th>8</th>\n",
       "      <td>2295261</td>\n",
       "      <td>1</td>\n",
       "      <td>prior</td>\n",
       "      <td>9</td>\n",
       "      <td>1</td>\n",
       "      <td>16</td>\n",
       "      <td>0.0</td>\n",
       "      <td>NaN</td>\n",
       "      <td>NaN</td>\n",
       "      <td>NaN</td>\n",
       "    </tr>\n",
       "    <tr>\n",
       "      <th>9</th>\n",
       "      <td>2550362</td>\n",
       "      <td>1</td>\n",
       "      <td>prior</td>\n",
       "      <td>10</td>\n",
       "      <td>4</td>\n",
       "      <td>8</td>\n",
       "      <td>30.0</td>\n",
       "      <td>NaN</td>\n",
       "      <td>NaN</td>\n",
       "      <td>NaN</td>\n",
       "    </tr>\n",
       "    <tr>\n",
       "      <th>10</th>\n",
       "      <td>1187899</td>\n",
       "      <td>1</td>\n",
       "      <td>train</td>\n",
       "      <td>11</td>\n",
       "      <td>4</td>\n",
       "      <td>8</td>\n",
       "      <td>14.0</td>\n",
       "      <td>NaN</td>\n",
       "      <td>NaN</td>\n",
       "      <td>NaN</td>\n",
       "    </tr>\n",
       "    <tr>\n",
       "      <th>11</th>\n",
       "      <td>2168274</td>\n",
       "      <td>2</td>\n",
       "      <td>prior</td>\n",
       "      <td>1</td>\n",
       "      <td>2</td>\n",
       "      <td>11</td>\n",
       "      <td>NaN</td>\n",
       "      <td>NaN</td>\n",
       "      <td>NaN</td>\n",
       "      <td>NaN</td>\n",
       "    </tr>\n",
       "  </tbody>\n",
       "</table>\n",
       "</div>"
      ],
      "text/plain": [
       "    order_id  user_id eval_set  order_number  order_dow  order_hour_of_day  \\\n",
       "0    2539329        1    prior             1          2                  8   \n",
       "1    2398795        1    prior             2          3                  7   \n",
       "2     473747        1    prior             3          3                 12   \n",
       "3    2254736        1    prior             4          4                  7   \n",
       "4     431534        1    prior             5          4                 15   \n",
       "5    3367565        1    prior             6          2                  7   \n",
       "6     550135        1    prior             7          1                  9   \n",
       "7    3108588        1    prior             8          1                 14   \n",
       "8    2295261        1    prior             9          1                 16   \n",
       "9    2550362        1    prior            10          4                  8   \n",
       "10   1187899        1    train            11          4                  8   \n",
       "11   2168274        2    prior             1          2                 11   \n",
       "\n",
       "    days_since_prior_order  Unnamed: 7  Unnamed: 8  Unnamed: 9  \n",
       "0                      NaN         NaN         NaN         NaN  \n",
       "1                     15.0         NaN         NaN         NaN  \n",
       "2                     21.0         NaN         NaN         NaN  \n",
       "3                     29.0         NaN         NaN    112498.0  \n",
       "4                     28.0         NaN         NaN         NaN  \n",
       "5                     19.0         NaN         NaN    143162.0  \n",
       "6                     20.0         NaN         NaN         NaN  \n",
       "7                     14.0         NaN         NaN         NaN  \n",
       "8                      0.0         NaN         NaN         NaN  \n",
       "9                     30.0         NaN         NaN         NaN  \n",
       "10                    14.0         NaN         NaN         NaN  \n",
       "11                     NaN         NaN         NaN         NaN  "
      ]
     },
     "execution_count": 35,
     "metadata": {},
     "output_type": "execute_result"
    }
   ],
   "source": [
    "print('Shape of Orders table: ', orders.shape)\n",
    "orders.head(12)"
   ]
  },
  {
   "cell_type": "code",
   "execution_count": 36,
   "id": "9118a031",
   "metadata": {},
   "outputs": [
    {
     "data": {
      "text/html": [
       "<div>\n",
       "<style scoped>\n",
       "    .dataframe tbody tr th:only-of-type {\n",
       "        vertical-align: middle;\n",
       "    }\n",
       "\n",
       "    .dataframe tbody tr th {\n",
       "        vertical-align: top;\n",
       "    }\n",
       "\n",
       "    .dataframe thead th {\n",
       "        text-align: right;\n",
       "    }\n",
       "</style>\n",
       "<table border=\"1\" class=\"dataframe\">\n",
       "  <thead>\n",
       "    <tr style=\"text-align: right;\">\n",
       "      <th></th>\n",
       "      <th>order_id</th>\n",
       "      <th>product_id</th>\n",
       "      <th>add_to_cart_order</th>\n",
       "      <th>reordered</th>\n",
       "      <th>product_name</th>\n",
       "      <th>aisle_id</th>\n",
       "      <th>department_id</th>\n",
       "      <th>is_organic</th>\n",
       "      <th>aisle</th>\n",
       "      <th>department</th>\n",
       "    </tr>\n",
       "  </thead>\n",
       "  <tbody>\n",
       "    <tr>\n",
       "      <th>0</th>\n",
       "      <td>2</td>\n",
       "      <td>33120</td>\n",
       "      <td>1</td>\n",
       "      <td>1</td>\n",
       "      <td>Organic Egg Whites</td>\n",
       "      <td>86</td>\n",
       "      <td>16</td>\n",
       "      <td>True</td>\n",
       "      <td>eggs</td>\n",
       "      <td>dairy eggs</td>\n",
       "    </tr>\n",
       "    <tr>\n",
       "      <th>1</th>\n",
       "      <td>2</td>\n",
       "      <td>28985</td>\n",
       "      <td>2</td>\n",
       "      <td>1</td>\n",
       "      <td>Michigan Organic Kale</td>\n",
       "      <td>83</td>\n",
       "      <td>4</td>\n",
       "      <td>True</td>\n",
       "      <td>fresh vegetables</td>\n",
       "      <td>produce</td>\n",
       "    </tr>\n",
       "    <tr>\n",
       "      <th>2</th>\n",
       "      <td>2</td>\n",
       "      <td>9327</td>\n",
       "      <td>3</td>\n",
       "      <td>0</td>\n",
       "      <td>Garlic Powder</td>\n",
       "      <td>104</td>\n",
       "      <td>13</td>\n",
       "      <td>False</td>\n",
       "      <td>spices seasonings</td>\n",
       "      <td>pantry</td>\n",
       "    </tr>\n",
       "    <tr>\n",
       "      <th>3</th>\n",
       "      <td>2</td>\n",
       "      <td>45918</td>\n",
       "      <td>4</td>\n",
       "      <td>1</td>\n",
       "      <td>Coconut Butter</td>\n",
       "      <td>19</td>\n",
       "      <td>13</td>\n",
       "      <td>False</td>\n",
       "      <td>oils vinegars</td>\n",
       "      <td>pantry</td>\n",
       "    </tr>\n",
       "    <tr>\n",
       "      <th>4</th>\n",
       "      <td>2</td>\n",
       "      <td>30035</td>\n",
       "      <td>5</td>\n",
       "      <td>0</td>\n",
       "      <td>Natural Sweetener</td>\n",
       "      <td>17</td>\n",
       "      <td>13</td>\n",
       "      <td>False</td>\n",
       "      <td>baking ingredients</td>\n",
       "      <td>pantry</td>\n",
       "    </tr>\n",
       "  </tbody>\n",
       "</table>\n",
       "</div>"
      ],
      "text/plain": [
       "   order_id  product_id  add_to_cart_order  reordered           product_name  \\\n",
       "0         2       33120                  1          1     Organic Egg Whites   \n",
       "1         2       28985                  2          1  Michigan Organic Kale   \n",
       "2         2        9327                  3          0          Garlic Powder   \n",
       "3         2       45918                  4          1         Coconut Butter   \n",
       "4         2       30035                  5          0      Natural Sweetener   \n",
       "\n",
       "   aisle_id  department_id  is_organic               aisle  department  \n",
       "0        86             16        True                eggs  dairy eggs  \n",
       "1        83              4        True    fresh vegetables     produce  \n",
       "2       104             13       False   spices seasonings      pantry  \n",
       "3        19             13       False       oils vinegars      pantry  \n",
       "4        17             13       False  baking ingredients      pantry  "
      ]
     },
     "execution_count": 36,
     "metadata": {},
     "output_type": "execute_result"
    }
   ],
   "source": [
    "# Which product that bought the most ? \n",
    "\n",
    "\n",
    "# merge past orders, product details, aisles details, dept details to one dataframe\n",
    "order_products = pd.merge(order_prod_prior, products, on='product_id', how='left')\n",
    "order_products = pd.merge(order_products, aisles, on='aisle_id', how='left')\n",
    "order_products = pd.merge(order_products, depts, on='department_id', how='left')\n",
    "order_products.head()"
   ]
  },
  {
   "cell_type": "code",
   "execution_count": 37,
   "id": "d851377e",
   "metadata": {},
   "outputs": [
    {
     "data": {
      "image/png": "[encoded data removed]",
      "text/plain": [
       "<Figure size 864x576 with 1 Axes>"
      ]
     },
     "metadata": {
      "needs_background": "light"
     },
     "output_type": "display_data"
    }
   ],
   "source": [
    "# display table that has most orders\n",
    "cnt_srs = order_products['product_name'].value_counts().head(15)\n",
    "plt.figure(figsize=(12,8))\n",
    "sns.barplot(cnt_srs.index, cnt_srs.values, alpha=0.8, color=color[9])\n",
    "plt.ylabel('Number of Occurrences', fontsize=12)\n",
    "plt.xlabel('Product Name', fontsize=12)\n",
    "plt.xticks(rotation='vertical')\n",
    "plt.title(\"Products that customer purchased the most\")\n",
    "plt.show()\n",
    "\n",
    "# fruits (bananas, strawberries) & vegetables (spinach, onions, zucchini)"
   ]
  },
  {
   "cell_type": "markdown",
   "id": "911b1c01",
   "metadata": {},
   "source": [
    "# How often a product is purchased?\n",
    "5 Most Ordered Products\n",
    "Banana\n",
    "Bag of Organic Bananas\n",
    "Organic Strawberries\n",
    "Organic Baby Spinach\n",
    "Organic Hass Avocado\n"
   ]
  },
  {
   "cell_type": "code",
   "execution_count": 38,
   "id": "8297928e",
   "metadata": {},
   "outputs": [
    {
     "data": {
      "text/html": [
       "<div>\n",
       "<style scoped>\n",
       "    .dataframe tbody tr th:only-of-type {\n",
       "        vertical-align: middle;\n",
       "    }\n",
       "\n",
       "    .dataframe tbody tr th {\n",
       "        vertical-align: top;\n",
       "    }\n",
       "\n",
       "    .dataframe thead th {\n",
       "        text-align: right;\n",
       "    }\n",
       "</style>\n",
       "<table border=\"1\" class=\"dataframe\">\n",
       "  <thead>\n",
       "    <tr style=\"text-align: right;\">\n",
       "      <th></th>\n",
       "      <th>product_name</th>\n",
       "      <th>reordered</th>\n",
       "    </tr>\n",
       "  </thead>\n",
       "  <tbody>\n",
       "    <tr>\n",
       "      <th>17724</th>\n",
       "      <td>Micro Craft Beer</td>\n",
       "      <td>1.0</td>\n",
       "    </tr>\n",
       "    <tr>\n",
       "      <th>4589</th>\n",
       "      <td>Cantina Chipotle Salsa</td>\n",
       "      <td>1.0</td>\n",
       "    </tr>\n",
       "    <tr>\n",
       "      <th>32805</th>\n",
       "      <td>Tuna Creations Herb &amp; Garlic Tuna</td>\n",
       "      <td>1.0</td>\n",
       "    </tr>\n",
       "    <tr>\n",
       "      <th>14466</th>\n",
       "      <td>Hot Links</td>\n",
       "      <td>1.0</td>\n",
       "    </tr>\n",
       "    <tr>\n",
       "      <th>32810</th>\n",
       "      <td>Tuna Fillets With Lemon And Pepper In Olive Oil</td>\n",
       "      <td>1.0</td>\n",
       "    </tr>\n",
       "    <tr>\n",
       "      <th>27341</th>\n",
       "      <td>Restaurant Style Mild Salsa</td>\n",
       "      <td>1.0</td>\n",
       "    </tr>\n",
       "    <tr>\n",
       "      <th>14481</th>\n",
       "      <td>Hot Ranchera Salsa</td>\n",
       "      <td>1.0</td>\n",
       "    </tr>\n",
       "    <tr>\n",
       "      <th>27337</th>\n",
       "      <td>Restaurant Recipe Italian Dressing</td>\n",
       "      <td>1.0</td>\n",
       "    </tr>\n",
       "    <tr>\n",
       "      <th>27335</th>\n",
       "      <td>Reserve Pinot Noir</td>\n",
       "      <td>1.0</td>\n",
       "    </tr>\n",
       "    <tr>\n",
       "      <th>4592</th>\n",
       "      <td>Cantina Thins Tortilla Chips</td>\n",
       "      <td>1.0</td>\n",
       "    </tr>\n",
       "  </tbody>\n",
       "</table>\n",
       "</div>"
      ],
      "text/plain": [
       "                                          product_name  reordered\n",
       "17724                                 Micro Craft Beer        1.0\n",
       "4589                            Cantina Chipotle Salsa        1.0\n",
       "32805                Tuna Creations Herb & Garlic Tuna        1.0\n",
       "14466                                        Hot Links        1.0\n",
       "32810  Tuna Fillets With Lemon And Pepper In Olive Oil        1.0\n",
       "27341                      Restaurant Style Mild Salsa        1.0\n",
       "14481                               Hot Ranchera Salsa        1.0\n",
       "27337               Restaurant Recipe Italian Dressing        1.0\n",
       "27335                               Reserve Pinot Noir        1.0\n",
       "4592                      Cantina Thins Tortilla Chips        1.0"
      ]
     },
     "execution_count": 38,
     "metadata": {},
     "output_type": "execute_result"
    }
   ],
   "source": [
    "# which products that customer AVG REORDERED our product the most ?\n",
    "\n",
    "\n",
    "# get avg reordered per product_name\n",
    "grouped_df = order_products.groupby([\"product_name\"])[\"reordered\"].aggregate(\"mean\").reset_index()\n",
    "\n",
    "# sort from highest to smallest, and get top15 only\n",
    "grouped_df = grouped_df.sort_values('reordered', ascending=False)\n",
    "grouped_df.head(10)\n"
   ]
  },
  {
   "cell_type": "markdown",
   "id": "0504f478",
   "metadata": {},
   "source": [
    "## #5"
   ]
  },
  {
   "cell_type": "code",
   "execution_count": 39,
   "id": "98218c8a",
   "metadata": {},
   "outputs": [],
   "source": [
    "# Which aisles that customer purchased the most ? \n",
    "cnt_srs = order_products['aisle'].value_counts().head(30)"
   ]
  },
  {
   "cell_type": "code",
   "execution_count": 40,
   "id": "f3c52c9d",
   "metadata": {},
   "outputs": [
    {
     "data": {
      "image/png": "[encoded data removed]",
      "text/plain": [
       "<Figure size 864x576 with 1 Axes>"
      ]
     },
     "metadata": {
      "needs_background": "light"
     },
     "output_type": "display_data"
    }
   ],
   "source": [
    "\n",
    "plt.figure(figsize=(12,8))\n",
    "sns.barplot(cnt_srs.index, cnt_srs.values, alpha=0.8, color=color[9])\n",
    "plt.ylabel('Number of Occurrences', fontsize=12)\n",
    "plt.xlabel('Aisle', fontsize=12)\n",
    "plt.xticks(rotation='vertical')\n",
    "plt.title(\"Aisles that customer purchased the most\")\n",
    "plt.show()\n",
    "\n",
    "# As expected from #4, fruits & vege"
   ]
  },
  {
   "cell_type": "markdown",
   "id": "a8a5b2c4",
   "metadata": {},
   "source": [
    "WE can say that customer purchased fruit and vege aisles mostly"
   ]
  },
  {
   "cell_type": "code",
   "execution_count": 41,
   "id": "10d8eb0e",
   "metadata": {},
   "outputs": [],
   "source": [
    "# which aisles that customer AVG REORDERED our product the most ?\n",
    "\n",
    "\n",
    "# get avg reordered per aisle\n",
    "grouped_df = order_products.groupby([\"aisle\"])[\"reordered\"].aggregate(\"mean\").reset_index()\n",
    "\n",
    "# sort from highest to smallest, and get top15 only\n",
    "grouped_df = grouped_df.sort_values('reordered', ascending=False).head(40)"
   ]
  },
  {
   "cell_type": "code",
   "execution_count": 42,
   "id": "52c4f066",
   "metadata": {},
   "outputs": [
    {
     "data": {
      "image/png": "[encoded data removed]",
      "text/plain": [
       "<Figure size 864x576 with 1 Axes>"
      ]
     },
     "metadata": {
      "needs_background": "light"
     },
     "output_type": "display_data"
    }
   ],
   "source": [
    "plt.figure(figsize=(12,8))\n",
    "sns.barplot(grouped_df['aisle'].values, grouped_df['reordered'].values, alpha=0.8, color=color[2])\n",
    "plt.ylabel('Reorder ratio', fontsize=12)\n",
    "plt.xlabel('Aisles', fontsize=12)\n",
    "plt.title(\"Aisles wise reorder ratio\", fontsize=15)\n",
    "plt.xticks(rotation='vertical')\n",
    "plt.show()\n",
    "\n",
    "# fruits & vege might be highest in qty, but reordering wise, milk & sparkling water at top, (fruits at 3rd, vegetables aren't even at top15)"
   ]
  },
  {
   "cell_type": "markdown",
   "id": "2a8c6a4a",
   "metadata": {},
   "source": [
    "milk and sparkling water aisles reorder most.\n",
    "fruits & vege might be highest in qty, \n",
    "but reordering wise, milk & sparkling water at top, (fruits at 3rd, vegetables aren't even at top15)"
   ]
  },
  {
   "cell_type": "markdown",
   "id": "30b5a8cb",
   "metadata": {},
   "source": [
    "## #6"
   ]
  },
  {
   "cell_type": "code",
   "execution_count": 43,
   "id": "53698e56",
   "metadata": {},
   "outputs": [
    {
     "data": {
      "image/png": "[encoded data removed]",
      "text/plain": [
       "<Figure size 864x576 with 1 Axes>"
      ]
     },
     "metadata": {
      "needs_background": "light"
     },
     "output_type": "display_data"
    }
   ],
   "source": [
    "# Which depts that customer purchased the most ? \n",
    "cnt_srs = order_products['department'].value_counts().head(25)\n",
    "plt.figure(figsize=(12,8))\n",
    "sns.barplot(cnt_srs.index, cnt_srs.values, alpha=0.8, color=color[9])\n",
    "plt.ylabel('Number of Occurrences', fontsize=12)\n",
    "plt.xlabel('Departments', fontsize=12)\n",
    "plt.xticks(rotation='vertical')\n",
    "plt.title(\"Depts that customer purchased the most\")\n",
    "plt.show()\n",
    "\n",
    "# Top3 are Produce, dairy egg, snacks"
   ]
  },
  {
   "cell_type": "code",
   "execution_count": 44,
   "id": "ce808324",
   "metadata": {},
   "outputs": [
    {
     "data": {
      "image/png": "[encoded data removed]",
      "text/plain": [
       "<Figure size 864x576 with 1 Axes>"
      ]
     },
     "metadata": {
      "needs_background": "light"
     },
     "output_type": "display_data"
    }
   ],
   "source": [
    "# Which depts that customer AVG REORDERED our product the most ?\n",
    "\n",
    "# get avg reordered per dept\n",
    "grouped_df = order_products.groupby([\"department\"])[\"reordered\"].aggregate(\"mean\").reset_index()\n",
    "\n",
    "# sort from highest to smallest, and get top15 only\n",
    "grouped_df = grouped_df.sort_values('reordered', ascending=False).head(25)\n",
    "\n",
    "\n",
    "plt.figure(figsize=(12,8))\n",
    "sns.barplot(grouped_df['department'].values, grouped_df['reordered'].values, alpha=0.8, color=color[2])\n",
    "plt.ylabel('Reorder ratio', fontsize=12)\n",
    "plt.xlabel('Depts', fontsize=12)\n",
    "plt.title(\"Depts wise reorder ratio\", fontsize=15)\n",
    "plt.xticks(rotation='vertical')\n",
    "plt.show()\n",
    "\n",
    "# Top3 are Dairy Eggs, Beverages, Produce"
   ]
  },
  {
   "cell_type": "markdown",
   "id": "fd5968c6",
   "metadata": {},
   "source": [
    "# Result"
   ]
  },
  {
   "cell_type": "markdown",
   "id": "03119bca",
   "metadata": {},
   "source": [
    "1. Which day & at which hour does.....\n",
    "     * customer purchase our products the most?\n",
    "         * Saturday 12.00-16.00 & Sun 9.00-12.00 has most orders \n",
    "         \n",
    "     * customer AVG REORDERED our products the most?\n",
    "        * highest on Sunday between 6am to 9am (nice)\n",
    "        * in general, for any days, highest between 5am to 9am\n",
    "        * interpretation : 0.66 means, 66% of all orders are actually reorders (returning customers)\n",
    "\n",
    "2. How many days does the customers usually come back and buy again from us? (and out of all these orders, how many of them are reorders (returning customers) ?)\n",
    "    * Customers usually come back to us once every 7 days or 30 days\n",
    "    * And out of all those orders, 58.97% are reorders (returning customers)\n",
    "\n",
    "3. How many products are there in a single order ?\n",
    "    * 10 products per orders. with the most is 5. Note that it dropped exponentially after 10\n",
    "    \n",
    "4. Which products that....\n",
    "    * customer purchased the most ? \n",
    "        * Fruits (bananas, strawberries) & vegetables (spinach, onions, zucchini)\n",
    "        \n",
    "    * customer AVG REORDERED the most ?\n",
    "        * Completely different than in qty wise. Top 3 are vege wrappers, pads, energy shots, chocolate bar. No fruits & veges at all in top 15\n",
    "        \n",
    "5. Which aisles that....\n",
    "    * customer purchased the most ? \n",
    "        * Fruits & Vege\n",
    "        \n",
    "    * customer AVG REORDERED the most ?\n",
    "        * fruits & vege might be highest in qty, but reordering wise, milk & sparkling water at top, (fruits at 3rd, vegetables aren't even at top15)\n",
    "        \n",
    "6. Which depts that....\n",
    "    * customer purchased the most ? \n",
    "        * Top3 are Produce, dairy egg, snacks\n",
    "        \n",
    "    * customer AVG REORDERED the most ?\n",
    "        * Top3 are Dairy Eggs, Beverages, Produce, quite similar as qty"
   ]
  },
  {
   "cell_type": "markdown",
   "id": "41122889",
   "metadata": {},
   "source": [
    "# Purchasing behaviour on Departments and Aisles\n"
   ]
  },
  {
   "cell_type": "markdown",
   "id": "53a9e567",
   "metadata": {},
   "source": [
    "Count of products in each department"
   ]
  },
  {
   "cell_type": "code",
   "execution_count": 45,
   "id": "1938eb7c",
   "metadata": {},
   "outputs": [
    {
     "data": {
      "image/png": "[encoded data removed]",
      "text/plain": [
       "<Figure size 1440x360 with 1 Axes>"
      ]
     },
     "metadata": {},
     "output_type": "display_data"
    }
   ],
   "source": [
    "# From All ordered products, the count of contribution of each department\n",
    "# Group by the count of ordering from a department\n",
    "total_ordered_products = order_products.shape[0]\n",
    "groupeddf = order_products.groupby(['department'], as_index=False).count().rename(columns={'department_id':'count_of_ordered_prods'})\n",
    "\n",
    "fig = plt.figure(figsize = (20, 5))\n",
    "plt.pie(groupeddf['count_of_ordered_prods'], labels = groupeddf['department'], autopct='%.0f%%', radius=1.7)\n",
    "plt.title('% of purchases across each department')\n",
    "plt.show()"
   ]
  },
  {
   "cell_type": "code",
   "execution_count": 46,
   "id": "afb34194",
   "metadata": {},
   "outputs": [],
   "source": [
    "import pandas as pd\n",
    "import numpy as np\n",
    "from collections import Counter\n",
    "from itertools import  combinations,groupby\n",
    "\n",
    "orders=pd.read_csv('D:\\Documents\\order_products__prior.csv')\n"
   ]
  },
  {
   "cell_type": "code",
   "execution_count": 47,
   "id": "1a1da795",
   "metadata": {},
   "outputs": [
    {
     "data": {
      "text/html": [
       "<div>\n",
       "<style scoped>\n",
       "    .dataframe tbody tr th:only-of-type {\n",
       "        vertical-align: middle;\n",
       "    }\n",
       "\n",
       "    .dataframe tbody tr th {\n",
       "        vertical-align: top;\n",
       "    }\n",
       "\n",
       "    .dataframe thead th {\n",
       "        text-align: right;\n",
       "    }\n",
       "</style>\n",
       "<table border=\"1\" class=\"dataframe\">\n",
       "  <thead>\n",
       "    <tr style=\"text-align: right;\">\n",
       "      <th></th>\n",
       "      <th>order_id</th>\n",
       "      <th>product_id</th>\n",
       "      <th>add_to_cart_order</th>\n",
       "      <th>reordered</th>\n",
       "    </tr>\n",
       "  </thead>\n",
       "  <tbody>\n",
       "    <tr>\n",
       "      <th>0</th>\n",
       "      <td>2</td>\n",
       "      <td>33120</td>\n",
       "      <td>1</td>\n",
       "      <td>1</td>\n",
       "    </tr>\n",
       "    <tr>\n",
       "      <th>1</th>\n",
       "      <td>2</td>\n",
       "      <td>28985</td>\n",
       "      <td>2</td>\n",
       "      <td>1</td>\n",
       "    </tr>\n",
       "    <tr>\n",
       "      <th>2</th>\n",
       "      <td>2</td>\n",
       "      <td>9327</td>\n",
       "      <td>3</td>\n",
       "      <td>0</td>\n",
       "    </tr>\n",
       "    <tr>\n",
       "      <th>3</th>\n",
       "      <td>2</td>\n",
       "      <td>45918</td>\n",
       "      <td>4</td>\n",
       "      <td>1</td>\n",
       "    </tr>\n",
       "    <tr>\n",
       "      <th>4</th>\n",
       "      <td>2</td>\n",
       "      <td>30035</td>\n",
       "      <td>5</td>\n",
       "      <td>0</td>\n",
       "    </tr>\n",
       "  </tbody>\n",
       "</table>\n",
       "</div>"
      ],
      "text/plain": [
       "   order_id  product_id  add_to_cart_order  reordered\n",
       "0         2       33120                  1          1\n",
       "1         2       28985                  2          1\n",
       "2         2        9327                  3          0\n",
       "3         2       45918                  4          1\n",
       "4         2       30035                  5          0"
      ]
     },
     "execution_count": 47,
     "metadata": {},
     "output_type": "execute_result"
    }
   ],
   "source": [
    "orders.head()"
   ]
  },
  {
   "cell_type": "code",
   "execution_count": 48,
   "id": "9aca5ed6",
   "metadata": {},
   "outputs": [
    {
     "data": {
      "text/plain": [
       "order_id\n",
       "2    33120\n",
       "2    28985\n",
       "2     9327\n",
       "2    45918\n",
       "2    30035\n",
       "2    17794\n",
       "2    40141\n",
       "2     1819\n",
       "2    43668\n",
       "3    33754\n",
       "3    24838\n",
       "3    17704\n",
       "3    21903\n",
       "3    17668\n",
       "3    46667\n",
       "Name: item_id, dtype: int64"
      ]
     },
     "metadata": {},
     "output_type": "display_data"
    },
    {
     "data": {
      "text/plain": [
       "pandas.core.series.Series"
      ]
     },
     "execution_count": 48,
     "metadata": {},
     "output_type": "execute_result"
    }
   ],
   "source": [
    "orders = orders.set_index('order_id')['product_id'].rename('item_id')\n",
    "display(orders.head(15))\n",
    "type(orders)"
   ]
  },
  {
   "cell_type": "code",
   "execution_count": 49,
   "id": "f1fe62ab",
   "metadata": {},
   "outputs": [
    {
     "name": "stdout",
     "output_type": "stream",
     "text": [
      "dimensions: (1048575,);      unique_orders: 104042;   unique_items: 35449\n"
     ]
    }
   ],
   "source": [
    "print('dimensions: {0};      unique_orders: {1};   unique_items: {2}'\n",
    "      .format(orders.shape, len(orders.index.unique()), len(orders.value_counts())))"
   ]
  },
  {
   "cell_type": "code",
   "execution_count": 50,
   "id": "a63f147a",
   "metadata": {},
   "outputs": [
    {
     "data": {
      "text/plain": [
       "24852    15450\n",
       "13176    12409\n",
       "21137     8528\n",
       "21903     7852\n",
       "47209     6857\n",
       "         ...  \n",
       "6524         1\n",
       "11935        1\n",
       "30401        1\n",
       "45880        1\n",
       "331          1\n",
       "Name: freq, Length: 35449, dtype: int64"
      ]
     },
     "execution_count": 50,
     "metadata": {},
     "output_type": "execute_result"
    }
   ],
   "source": [
    "# Returns frequency counts for items and item pairs\n",
    "def freq(iterable):\n",
    "    if type(iterable) == pd.core.series.Series:\n",
    "        return iterable.value_counts().rename(\"freq\")\n",
    "    else: \n",
    "        return pd.Series(Counter(iterable)).rename(\"freq\")\n",
    "freq(orders)"
   ]
  },
  {
   "cell_type": "code",
   "execution_count": 51,
   "id": "af3d8f24",
   "metadata": {},
   "outputs": [],
   "source": [
    "# Returns number of unique orders\n",
    "def order_count(order_item):\n",
    "    return len(set(order_item.index))\n"
   ]
  },
  {
   "cell_type": "code",
   "execution_count": 52,
   "id": "a04aaf31",
   "metadata": {},
   "outputs": [],
   "source": [
    "# Returns generator that yields item pairs, one at a time\n",
    "def get_item_pairs(order_item):\n",
    "    order_item = order_item.reset_index().to_numpy()\n",
    "    for order_id, order_object in groupby(order_item, lambda x: x[0]):\n",
    "        item_list = [item[1] for item in order_object]\n",
    "              \n",
    "        for item_pair in combinations(item_list, 2):\n",
    "            yield item_pair"
   ]
  },
  {
   "cell_type": "code",
   "execution_count": 53,
   "id": "78af5790",
   "metadata": {},
   "outputs": [],
   "source": [
    "# Returns frequency and support associated with item\n",
    "def merge_item_stats(item_pairs, item_stats):\n",
    "    return (item_pairs\n",
    "                .merge(item_stats.rename(columns={'freq': 'freqA', 'support': 'supportA'}), left_on='item_A', right_index=True)\n",
    "                .merge(item_stats.rename(columns={'freq': 'freqB', 'support': 'supportB'}), left_on='item_B', right_index=True))"
   ]
  },
  {
   "cell_type": "code",
   "execution_count": 54,
   "id": "dc123465",
   "metadata": {},
   "outputs": [],
   "source": [
    "# Returns name associated with item\n",
    "def merge_item_name(rules, item_name):\n",
    "    columns = ['itemA','itemB','freqAB','supportAB','freqA','supportA','freqB','supportB', \n",
    "               'confidenceAtoB','confidenceBtoA','lift']\n",
    "    rules = (rules\n",
    "                .merge(item_name.rename(columns={'item_name': 'itemA'}), left_on='item_A', right_on='item_id')\n",
    "                .merge(item_name.rename(columns={'item_name': 'itemB'}), left_on='item_B', right_on='item_id'))\n",
    "    return rules[columns]             "
   ]
  },
  {
   "cell_type": "markdown",
   "id": "58f090b9",
   "metadata": {},
   "source": [
    "# Assosiation Rule Function"
   ]
  },
  {
   "cell_type": "code",
   "execution_count": 57,
   "id": "452fc1a3",
   "metadata": {},
   "outputs": [],
   "source": [
    "def association_rules(order_item, min_support):\n",
    "\n",
    "    print(\"Starting order_item: {:22d}\".format(len(order_item)))\n",
    "\n",
    "\n",
    "    # Calculate item frequency and support (`freq` is same as term `support-count`)\n",
    "    item_stats             = freq(order_item).to_frame(\"freq\") # `.to_frame()` converts the Series into pd.DF with \n",
    "                                                               # index - \"product_id\" (\"Milk\", \"Apple\", ...)\n",
    "                                                               # df with only 1 col - \"freq\" (freq count of the product)\n",
    "    item_stats['support']  = item_stats['freq'] / order_count(order_item) * 100\n",
    "                                        # new col `support` added to df with `freq` col\n",
    "\n",
    "\n",
    "    # Filter from order_item items below min support (Pruning based on Apriori Algorithm)\n",
    "    qualifying_items       = item_stats[item_stats['support'] >= min_support].index #get indices(i.e \"product_id\"s) satisfying the condition\n",
    "    order_item             = order_item[order_item.isin(qualifying_items)] # based on the \"indices\", filter `order_item`s\n",
    "\n",
    "    print(\"Items with support >= {}: {:15d}\".format(min_support, len(qualifying_items)))\n",
    "    print(\"Remaining order_item: {:21d}\".format(len(order_item)))\n",
    "\n",
    "\n",
    "    # Filter from order_item orders with less than 2 items\n",
    "    order_size             = freq(order_item.index)\n",
    "    qualifying_orders      = order_size[order_size >= 2].index\n",
    "    order_item             = order_item[order_item.index.isin(qualifying_orders)]\n",
    "\n",
    "    print(\"Remaining orders with 2+ items: {:11d}\".format(len(qualifying_orders)))\n",
    "    print(\"Remaining order_item: {:21d}\".format(len(order_item)))\n",
    "\n",
    "\n",
    "    # Recalculate item frequency and support\n",
    "    item_stats             = freq(order_item).to_frame(\"freq\")\n",
    "    item_stats['support']  = item_stats['freq'] / order_count(order_item) * 100\n",
    "\n",
    "\n",
    "    # Get item pairs generator\n",
    "    item_pair_gen          = get_item_pairs(order_item)\n",
    "\n",
    "\n",
    "    # Calculate item pair frequency and support\n",
    "    item_pairs              = freq(item_pair_gen).to_frame(\"freqAB\")\n",
    "    item_pairs['supportAB'] = item_pairs['freqAB'] / len(qualifying_orders) * 100\n",
    "\n",
    "    print(\"Item pairs: {:31d}\".format(len(item_pairs)))\n",
    "\n",
    "\n",
    "    # Filter from item_pairs those below min support\n",
    "    item_pairs              = item_pairs[item_pairs['supportAB'] >= min_support]\n",
    "\n",
    "    print(\"Item pairs with support >= {}: {:10d}\\n\".format(min_support, len(item_pairs)))\n",
    "\n",
    "\n",
    "    # Create table of association rules and compute relevant metrics\n",
    "    item_pairs = item_pairs.reset_index().rename(columns={'level_0': 'item_A', 'level_1': 'item_B'})\n",
    "    item_pairs = merge_item_stats(item_pairs, item_stats)\n",
    "    \n",
    "    item_pairs['confidenceAtoB'] = item_pairs['supportAB'] / item_pairs['supportA']\n",
    "    item_pairs['confidenceBtoA'] = item_pairs['supportAB'] / item_pairs['supportB']\n",
    "    item_pairs['lift']           = item_pairs['supportAB'] / (item_pairs['supportA'] * item_pairs['supportB'])\n",
    "    \n",
    "    \n",
    "    # Return association rules sorted by lift in descending order\n",
    "    return item_pairs.sort_values('lift', ascending=False)"
   ]
  },
  {
   "cell_type": "code",
   "execution_count": 58,
   "id": "7ffbcb75",
   "metadata": {},
   "outputs": [
    {
     "name": "stdout",
     "output_type": "stream",
     "text": [
      "Starting order_item:                1048575\n",
      "Items with support >= 0.01:           10984\n",
      "Remaining order_item:                969090\n",
      "Remaining orders with 2+ items:       97533\n",
      "Remaining order_item:                963196\n",
      "Item pairs:                         3767829\n",
      "Item pairs with support >= 0.01:      55355\n",
      "\n",
      "CPU times: total: 18.1 s\n",
      "Wall time: 18.3 s\n"
     ]
    }
   ],
   "source": [
    "%%time\n",
    "rules = association_rules(orders, 0.01)  "
   ]
  },
  {
   "cell_type": "code",
   "execution_count": 59,
   "id": "adac2da9",
   "metadata": {},
   "outputs": [
    {
     "data": {
      "text/html": [
       "<div>\n",
       "<style scoped>\n",
       "    .dataframe tbody tr th:only-of-type {\n",
       "        vertical-align: middle;\n",
       "    }\n",
       "\n",
       "    .dataframe tbody tr th {\n",
       "        vertical-align: top;\n",
       "    }\n",
       "\n",
       "    .dataframe thead th {\n",
       "        text-align: right;\n",
       "    }\n",
       "</style>\n",
       "<table border=\"1\" class=\"dataframe\">\n",
       "  <thead>\n",
       "    <tr style=\"text-align: right;\">\n",
       "      <th></th>\n",
       "      <th>itemA</th>\n",
       "      <th>itemB</th>\n",
       "      <th>freqAB</th>\n",
       "      <th>supportAB</th>\n",
       "      <th>freqA</th>\n",
       "      <th>supportA</th>\n",
       "      <th>freqB</th>\n",
       "      <th>supportB</th>\n",
       "      <th>confidenceAtoB</th>\n",
       "      <th>confidenceBtoA</th>\n",
       "      <th>lift</th>\n",
       "    </tr>\n",
       "  </thead>\n",
       "  <tbody>\n",
       "    <tr>\n",
       "      <th>0</th>\n",
       "      <td>Uncured Bacon + Cranberry Bison Bar</td>\n",
       "      <td>Turkey Bar, Almond + Cranberry</td>\n",
       "      <td>10</td>\n",
       "      <td>0.010253</td>\n",
       "      <td>33</td>\n",
       "      <td>0.033835</td>\n",
       "      <td>25</td>\n",
       "      <td>0.025632</td>\n",
       "      <td>0.303030</td>\n",
       "      <td>0.400000</td>\n",
       "      <td>11.822182</td>\n",
       "    </tr>\n",
       "    <tr>\n",
       "      <th>1</th>\n",
       "      <td>Gobble Gobble Turkey Pouch Stage 3</td>\n",
       "      <td>Stage 3 Hearty Meals - Chick Chick Organic Bab...</td>\n",
       "      <td>12</td>\n",
       "      <td>0.012304</td>\n",
       "      <td>30</td>\n",
       "      <td>0.030759</td>\n",
       "      <td>35</td>\n",
       "      <td>0.035885</td>\n",
       "      <td>0.400000</td>\n",
       "      <td>0.342857</td>\n",
       "      <td>11.146629</td>\n",
       "    </tr>\n",
       "    <tr>\n",
       "      <th>2</th>\n",
       "      <td>Organic Nondairy Strawberry Cashew Yogurt</td>\n",
       "      <td>Organic Cashew Nondairy Blueberry Yogurt</td>\n",
       "      <td>10</td>\n",
       "      <td>0.010253</td>\n",
       "      <td>35</td>\n",
       "      <td>0.035885</td>\n",
       "      <td>27</td>\n",
       "      <td>0.027683</td>\n",
       "      <td>0.285714</td>\n",
       "      <td>0.370370</td>\n",
       "      <td>10.320952</td>\n",
       "    </tr>\n",
       "    <tr>\n",
       "      <th>3</th>\n",
       "      <td>Organic Stage 3 Zucchini Broccoli Medley Baby ...</td>\n",
       "      <td>Organic Spring Vegetables &amp; Pasta Stage 3 Baby...</td>\n",
       "      <td>10</td>\n",
       "      <td>0.010253</td>\n",
       "      <td>44</td>\n",
       "      <td>0.045113</td>\n",
       "      <td>22</td>\n",
       "      <td>0.022556</td>\n",
       "      <td>0.227273</td>\n",
       "      <td>0.454545</td>\n",
       "      <td>10.075723</td>\n",
       "    </tr>\n",
       "    <tr>\n",
       "      <th>5</th>\n",
       "      <td>Antioxidant Infusions Brasilia Blueberry</td>\n",
       "      <td>Antioxidant Infusions Costa Rica Clementine</td>\n",
       "      <td>11</td>\n",
       "      <td>0.011278</td>\n",
       "      <td>34</td>\n",
       "      <td>0.034860</td>\n",
       "      <td>34</td>\n",
       "      <td>0.034860</td>\n",
       "      <td>0.323529</td>\n",
       "      <td>0.323529</td>\n",
       "      <td>9.280822</td>\n",
       "    </tr>\n",
       "    <tr>\n",
       "      <th>...</th>\n",
       "      <td>...</td>\n",
       "      <td>...</td>\n",
       "      <td>...</td>\n",
       "      <td>...</td>\n",
       "      <td>...</td>\n",
       "      <td>...</td>\n",
       "      <td>...</td>\n",
       "      <td>...</td>\n",
       "      <td>...</td>\n",
       "      <td>...</td>\n",
       "      <td>...</td>\n",
       "    </tr>\n",
       "    <tr>\n",
       "      <th>15061</th>\n",
       "      <td>Organic Strawberries</td>\n",
       "      <td>Strawberries</td>\n",
       "      <td>23</td>\n",
       "      <td>0.023582</td>\n",
       "      <td>8486</td>\n",
       "      <td>8.700645</td>\n",
       "      <td>4550</td>\n",
       "      <td>4.665088</td>\n",
       "      <td>0.002710</td>\n",
       "      <td>0.005055</td>\n",
       "      <td>0.000581</td>\n",
       "    </tr>\n",
       "    <tr>\n",
       "      <th>3717</th>\n",
       "      <td>Organic Avocado</td>\n",
       "      <td>Organic Hass Avocado</td>\n",
       "      <td>12</td>\n",
       "      <td>0.012304</td>\n",
       "      <td>5633</td>\n",
       "      <td>5.775481</td>\n",
       "      <td>6843</td>\n",
       "      <td>7.016087</td>\n",
       "      <td>0.002130</td>\n",
       "      <td>0.001754</td>\n",
       "      <td>0.000304</td>\n",
       "    </tr>\n",
       "    <tr>\n",
       "      <th>8710</th>\n",
       "      <td>Organic Hass Avocado</td>\n",
       "      <td>Organic Avocado</td>\n",
       "      <td>11</td>\n",
       "      <td>0.011278</td>\n",
       "      <td>6843</td>\n",
       "      <td>7.016087</td>\n",
       "      <td>5633</td>\n",
       "      <td>5.775481</td>\n",
       "      <td>0.001607</td>\n",
       "      <td>0.001953</td>\n",
       "      <td>0.000278</td>\n",
       "    </tr>\n",
       "    <tr>\n",
       "      <th>1635</th>\n",
       "      <td>Banana</td>\n",
       "      <td>Bag of Organic Bananas</td>\n",
       "      <td>24</td>\n",
       "      <td>0.024607</td>\n",
       "      <td>15377</td>\n",
       "      <td>15.765946</td>\n",
       "      <td>12319</td>\n",
       "      <td>12.630597</td>\n",
       "      <td>0.001561</td>\n",
       "      <td>0.001948</td>\n",
       "      <td>0.000124</td>\n",
       "    </tr>\n",
       "    <tr>\n",
       "      <th>2729</th>\n",
       "      <td>Bag of Organic Bananas</td>\n",
       "      <td>Banana</td>\n",
       "      <td>16</td>\n",
       "      <td>0.016405</td>\n",
       "      <td>12319</td>\n",
       "      <td>12.630597</td>\n",
       "      <td>15377</td>\n",
       "      <td>15.765946</td>\n",
       "      <td>0.001299</td>\n",
       "      <td>0.001041</td>\n",
       "      <td>0.000082</td>\n",
       "    </tr>\n",
       "  </tbody>\n",
       "</table>\n",
       "<p>55355 rows × 11 columns</p>\n",
       "</div>"
      ],
      "text/plain": [
       "                                                   itemA  \\\n",
       "0                    Uncured Bacon + Cranberry Bison Bar   \n",
       "1                     Gobble Gobble Turkey Pouch Stage 3   \n",
       "2              Organic Nondairy Strawberry Cashew Yogurt   \n",
       "3      Organic Stage 3 Zucchini Broccoli Medley Baby ...   \n",
       "5               Antioxidant Infusions Brasilia Blueberry   \n",
       "...                                                  ...   \n",
       "15061                               Organic Strawberries   \n",
       "3717                                     Organic Avocado   \n",
       "8710                                Organic Hass Avocado   \n",
       "1635                                              Banana   \n",
       "2729                              Bag of Organic Bananas   \n",
       "\n",
       "                                                   itemB  freqAB  supportAB  \\\n",
       "0                         Turkey Bar, Almond + Cranberry      10   0.010253   \n",
       "1      Stage 3 Hearty Meals - Chick Chick Organic Bab...      12   0.012304   \n",
       "2               Organic Cashew Nondairy Blueberry Yogurt      10   0.010253   \n",
       "3      Organic Spring Vegetables & Pasta Stage 3 Baby...      10   0.010253   \n",
       "5            Antioxidant Infusions Costa Rica Clementine      11   0.011278   \n",
       "...                                                  ...     ...        ...   \n",
       "15061                                       Strawberries      23   0.023582   \n",
       "3717                                Organic Hass Avocado      12   0.012304   \n",
       "8710                                     Organic Avocado      11   0.011278   \n",
       "1635                              Bag of Organic Bananas      24   0.024607   \n",
       "2729                                              Banana      16   0.016405   \n",
       "\n",
       "       freqA   supportA  freqB   supportB  confidenceAtoB  confidenceBtoA  \\\n",
       "0         33   0.033835     25   0.025632        0.303030        0.400000   \n",
       "1         30   0.030759     35   0.035885        0.400000        0.342857   \n",
       "2         35   0.035885     27   0.027683        0.285714        0.370370   \n",
       "3         44   0.045113     22   0.022556        0.227273        0.454545   \n",
       "5         34   0.034860     34   0.034860        0.323529        0.323529   \n",
       "...      ...        ...    ...        ...             ...             ...   \n",
       "15061   8486   8.700645   4550   4.665088        0.002710        0.005055   \n",
       "3717    5633   5.775481   6843   7.016087        0.002130        0.001754   \n",
       "8710    6843   7.016087   5633   5.775481        0.001607        0.001953   \n",
       "1635   15377  15.765946  12319  12.630597        0.001561        0.001948   \n",
       "2729   12319  12.630597  15377  15.765946        0.001299        0.001041   \n",
       "\n",
       "            lift  \n",
       "0      11.822182  \n",
       "1      11.146629  \n",
       "2      10.320952  \n",
       "3      10.075723  \n",
       "5       9.280822  \n",
       "...          ...  \n",
       "15061   0.000581  \n",
       "3717    0.000304  \n",
       "8710    0.000278  \n",
       "1635    0.000124  \n",
       "2729    0.000082  \n",
       "\n",
       "[55355 rows x 11 columns]"
      ]
     },
     "metadata": {},
     "output_type": "display_data"
    }
   ],
   "source": [
    "item_name   = pd.read_csv('D:\\Documents\\products.csv')\n",
    "item_name   = item_name.rename(columns={'product_id':'item_id', 'product_name':'item_name'})\n",
    "rules_final = merge_item_name(rules, item_name).sort_values('lift', ascending=False)\n",
    "display(rules_final)"
   ]
  },
  {
   "cell_type": "code",
   "execution_count": null,
   "id": "b23dd997",
   "metadata": {},
   "outputs": [],
   "source": []
  }
 ],
 "metadata": {
  "kernelspec": {
   "display_name": "Python 3 (ipykernel)",
   "language": "python",
   "name": "python3"
  },
  "language_info": {
   "codemirror_mode": {
    "name": "ipython",
    "version": 3
   },
   "file_extension": ".py",
   "mimetype": "text/x-python",
   "name": "python",
   "nbconvert_exporter": "python",
   "pygments_lexer": "ipython3",
   "version": "3.10.5"
  }
 },
 "nbformat": 4,
 "nbformat_minor": 5
}
